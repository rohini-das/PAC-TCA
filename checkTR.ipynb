{
 "cells": [
  {
   "cell_type": "code",
   "execution_count": 2,
   "metadata": {},
   "outputs": [
    {
     "name": "stdout",
     "output_type": "stream",
     "text": [
      "true\n"
     ]
    }
   ],
   "source": [
    "from itertools import chain, combinations\n",
    "import random\n",
    "import math\n",
    "\n",
    "\n",
    "def isGameTR(G):\n",
    "    \n",
    "    def getChoiceSet(coalition, l):\n",
    "        l0 = l[0]\n",
    "        l1 = l[1]\n",
    "        max = 0\n",
    "        c = 0\n",
    "        arr = []\n",
    "        for i in range(len(l0)):\n",
    "            if l0[i].issubset(coalition):\n",
    "                if l1[i]>=max:\n",
    "                    c=c+1\n",
    "                    max = l1[i]\n",
    "                    index = i\n",
    "        arr = [c, index]\n",
    "        return arr\n",
    "    \n",
    "    for i in G:\n",
    "        l = G[i]\n",
    "        l0 = l[0]\n",
    "        l1 = l[1]\n",
    "        for j in range(len(l0)):\n",
    "            csetarr = getChoiceSet(l0[j], l)\n",
    "            if csetarr[0]!=1:\n",
    "                return False\n",
    "            elif (math.floor(l1[csetarr[1]]) != math.floor(l1[j])):\n",
    "                return False\n",
    "    return True\n",
    "\n",
    "\n",
    "if isGameTR({1: [[{1, 2}, {1, 2, 4}, {1, 2, 3}, {1, 2, 3, 4}, {1, 4}, {1, 3, 4}, {1, 3}, {1}], [29.5, 29.28186136967677, 29.28186136967677, 29.00332425867205, 28.705859747941147, 28.101935678033247, 27.91335802761975, 2]], 2: [[{2, 4}, {2, 3, 4}, {1, 2, 4}, {1, 2, 3, 4}, {1, 2}, {1, 2, 3}, {2, 3}, {2}], [29.5, 29.4568385164438, 29.4568385164438, 29.139592081685088, 28.04217670396325, 28.025387879485745, 27.20450134832414, 2]], 3: [[{3, 4}, {2, 3, 4}, {1, 3, 4}, {1, 2, 3, 4}, {2, 3}, {1, 2, 3}, {1, 3}, {3}], [29.5, 29.401576011066233, 29.401576011066233, 29.39346063702427, 28.11948905934714, 28.100501424926524, 27.03350019226721, 2]], 4: [[{2, 4}, {2, 3, 4}, {1, 2, 4}, {1, 2, 3, 4}, {1, 4}, {1, 3, 4}, {3, 4}, {4}], [29.5, 29.036131829120297, 29.036131829120297, 29.02496257081759, 28.74169956406944, 28.04649053201689, 27.777204999387703, 2]]}):\n",
    "    print(\"true\")\n",
    "else:\n",
    "    print(\"false\")\n"
   ]
  },
  {
   "cell_type": "code",
   "execution_count": null,
   "metadata": {},
   "outputs": [],
   "source": []
  }
 ],
 "metadata": {
  "kernelspec": {
   "display_name": "Python 3",
   "language": "python",
   "name": "python3"
  },
  "language_info": {
   "codemirror_mode": {
    "name": "ipython",
    "version": 3
   },
   "file_extension": ".py",
   "mimetype": "text/x-python",
   "name": "python",
   "nbconvert_exporter": "python",
   "pygments_lexer": "ipython3",
   "version": "3.6.4"
  }
 },
 "nbformat": 4,
 "nbformat_minor": 2
}
