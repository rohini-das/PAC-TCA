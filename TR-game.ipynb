{
 "cells": [
  {
   "cell_type": "code",
   "execution_count": 1,
   "metadata": {},
   "outputs": [],
   "source": [
    "from itertools import chain, combinations\n",
    "import random\n",
    "import math\n",
    "\n",
    "def all_subsets(AA):\n",
    "    \n",
    "    def powerset(A):\n",
    "        length = len(A)\n",
    "        return {\n",
    "        frozenset({e for e, b in zip(A, f'{i:{length}b}') if b == '1'})\n",
    "        for i in range(2 ** length)}\n",
    "\n",
    "    s = set()\n",
    "    s = powerset(AA)\n",
    "    l = list(s)\n",
    "    l1 = [set(x) for x in l]\n",
    "    #print(list(sub_sets))1,2,3,4\n",
    "    return l1\n",
    "\n",
    "# s1 = [x for x in all_subsets({1,2,3,4}) if 1 in x]\n",
    "# print(s1)\n",
    "\n",
    "\n"
   ]
  },
  {
   "cell_type": "code",
   "execution_count": 2,
   "metadata": {},
   "outputs": [],
   "source": [
    "def game(n):\n",
    "    pref = dict((i, []) for i in n)\n",
    "    for i in n:\n",
    "        \n",
    "        S_i = [x for x in all_subsets(n) if i in x]\n",
    "        m = k = 29.5\n",
    "        #min_len = len(min_set)\n",
    "        l0 = []\n",
    "        l1 = []\n",
    "        S_i.remove({i})\n",
    "        while S_i!=[]:\n",
    "            l = []\n",
    "            ll = []\n",
    "            min_set = min(S_i, key = len)\n",
    "            for j in S_i:\n",
    "                if j.issuperset(min_set):\n",
    "                    l.append(j)\n",
    "            l.sort(key=len)\n",
    "            startlen = 0\n",
    "            for x in l:\n",
    "                if len(x)!=startlen:\n",
    "                    ll.append(k)\n",
    "                else:\n",
    "                    ll.append(m)\n",
    "                    k=m\n",
    "                startlen = len(x)\n",
    "                m=k\n",
    "                k = random.uniform(math.floor(m), m)\n",
    "                    \n",
    "            l0.extend(l)\n",
    "            l1.extend(ll)\n",
    "            S_i = [x for x in S_i if x not in l0]\n",
    "            m = random.uniform(math.floor(k)-1, math.floor(k))\n",
    "            k = m\n",
    "            \n",
    "        l0.append({i})\n",
    "        l1.append(2)\n",
    "        \n",
    "        pref[i] = [l0, l1]\n",
    "        \n",
    "    return pref\n"
   ]
  },
  {
   "cell_type": "code",
   "execution_count": 3,
   "metadata": {},
   "outputs": [
    {
     "name": "stdout",
     "output_type": "stream",
     "text": [
      "1 : [{1, 2}, {1, 2, 4}, {1, 2, 3}, {1, 2, 3, 4}, {1, 4}, {1, 3, 4}, {1, 3}, {1}]\n",
      "1 : [29.5, 29.37264136200995, 29.37264136200995, 29.124090356768765, 28.77576557161905, 28.387322370460083, 27.559388583538208, 2]\n",
      "\n",
      "\n",
      "2 : [{2, 4}, {2, 3, 4}, {1, 2, 4}, {1, 2, 3, 4}, {1, 2}, {1, 2, 3}, {2, 3}, {2}]\n",
      "2 : [29.5, 29.396037279027613, 29.396037279027613, 29.24385705501568, 28.679441587829466, 28.024940673356827, 27.749070527488687, 2]\n",
      "\n",
      "\n",
      "3 : [{3, 4}, {2, 3, 4}, {1, 3, 4}, {1, 2, 3, 4}, {2, 3}, {1, 2, 3}, {1, 3}, {3}]\n",
      "3 : [29.5, 29.19550425028019, 29.19550425028019, 29.14521270337383, 28.954375661424443, 28.041041585262136, 27.358468761259946, 2]\n",
      "\n",
      "\n",
      "4 : [{2, 4}, {2, 3, 4}, {1, 2, 4}, {1, 2, 3, 4}, {1, 4}, {1, 3, 4}, {3, 4}, {4}]\n",
      "4 : [29.5, 29.274840548881993, 29.274840548881993, 29.265771764078114, 28.00841065168722, 28.002565707406703, 27.07447288800063, 2]\n",
      "\n",
      "\n"
     ]
    }
   ],
   "source": [
    "d = dict()\n",
    "l = [x for x in range(1,5)]\n",
    "d = game(set(l))\n",
    "for i in d:\n",
    "    lll = d[i]\n",
    "    print(i,\":\", lll[0])\n",
    "    print(i,\":\", lll[1])\n",
    "    print(\"\\n\")\n"
   ]
  }
 ],
 "metadata": {
  "kernelspec": {
   "display_name": "Python 3",
   "language": "python",
   "name": "python3"
  },
  "language_info": {
   "codemirror_mode": {
    "name": "ipython",
    "version": 3
   },
   "file_extension": ".py",
   "mimetype": "text/x-python",
   "name": "python",
   "nbconvert_exporter": "python",
   "pygments_lexer": "ipython3",
   "version": "3.6.4"
  }
 },
 "nbformat": 4,
 "nbformat_minor": 2
}
