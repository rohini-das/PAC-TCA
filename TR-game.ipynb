{
 "cells": [
  {
   "cell_type": "code",
   "execution_count": 1,
   "metadata": {},
   "outputs": [],
   "source": [
    "from itertools import chain, combinations\n",
    "import random\n",
    "import math\n",
    "\n",
    "def all_subsets(AA):\n",
    "    \n",
    "    def powerset(A):\n",
    "        length = len(A)\n",
    "        return {\n",
    "        frozenset({e for e, b in zip(A, f'{i:{length}b}') if b == '1'})\n",
    "        for i in range(2 ** length)}\n",
    "\n",
    "    s = set()\n",
    "    s = powerset(AA)\n",
    "    l = list(s)\n",
    "    l1 = [set(x) for x in l]\n",
    "    #print(list(sub_sets))1,2,3,4\n",
    "    return l1\n",
    "\n",
    "# s1 = [x for x in all_subsets({1,2,3,4}) if 1 in x]\n",
    "# print(s1)\n",
    "\n",
    "\n"
   ]
  },
  {
   "cell_type": "code",
   "execution_count": 2,
   "metadata": {},
   "outputs": [],
   "source": [
    "def game(n):\n",
    "    pref = dict((i, []) for i in n)\n",
    "    for i in n:\n",
    "        \n",
    "        S_i = [x for x in all_subsets(n) if i in x]\n",
    "        m = k = random.uniform(10, 20)\n",
    "        #min_len = len(min_set)\n",
    "        l0 = []\n",
    "        l1 = []\n",
    "#         S_i.remove({i})\n",
    "        while S_i!=[]:\n",
    "            l = []\n",
    "            ll = []\n",
    "            randu = random.sample(S_i, 1)[0]\n",
    "#             %debug\n",
    "#           min_set = min(S_i, key = len)\n",
    "            for j in S_i:\n",
    "                if j.issuperset(randu):\n",
    "                    l.append(j)\n",
    "            l.sort(key=len)\n",
    "            startlen = 0\n",
    "            for x in l:\n",
    "                if len(x)!=startlen:\n",
    "                    ll.append(k)\n",
    "                else:\n",
    "                    ll.append(m)\n",
    "                    k=m\n",
    "                startlen = len(x)\n",
    "                m=k\n",
    "                k = random.uniform(math.floor(m), m)\n",
    "                    \n",
    "            l0.extend(l)\n",
    "            l1.extend(ll)\n",
    "            S_i = [x for x in S_i if x not in l0]\n",
    "            z = random.uniform(0,5)\n",
    "            m = random.uniform(math.floor(k)-z-1, math.floor(k)-z)\n",
    "            k = m\n",
    "            \n",
    "#         l0.append({i})\n",
    "#         l1.append(2)\n",
    "        \n",
    "        pref[i] = [l0, l1]\n",
    "        \n",
    "    return pref\n"
   ]
  },
  {
   "cell_type": "code",
   "execution_count": 3,
   "metadata": {},
   "outputs": [
    {
     "name": "stdout",
     "output_type": "stream",
     "text": [
      "1 : [{1, 4}, {1, 2, 4}, {1, 3, 4}, {1, 2, 3, 4}, {1, 3}, {1, 2, 3}, {1}, {1, 2}]\n",
      "1 : [17.27123131779083, 17.174895605192795, 17.174895605192795, 17.0250685848453, 11.737327326172675, 11.575245024440274, 10.469720246320483, 10.018418137351286]\n",
      "\n",
      "\n",
      "2 : [{1, 2}, {1, 2, 4}, {1, 2, 3}, {1, 2, 3, 4}, {2, 4}, {2, 3, 4}, {2, 3}, {2}]\n",
      "2 : [13.644311434584061, 13.473603012008335, 13.473603012008335, 13.423262651452779, 10.419253537737546, 10.29177328132685, 9.568363022938355, 4.860164770609982]\n",
      "\n",
      "\n",
      "3 : [{2, 3}, {2, 3, 4}, {1, 2, 3}, {1, 2, 3, 4}, {1, 3}, {1, 3, 4}, {3}, {3, 4}]\n",
      "3 : [14.682191857069792, 14.520640123683753, 14.520640123683753, 14.012191416852062, 12.873223593236766, 12.286820130072307, 10.163289636094568, 10.144378876335317]\n",
      "\n",
      "\n",
      "4 : [{1, 3, 4}, {1, 2, 3, 4}, {2, 4}, {2, 3, 4}, {1, 2, 4}, {1, 4}, {4}, {3, 4}]\n",
      "4 : [16.95273806700815, 16.08058095848346, 13.118405357630037, 13.045711699633413, 13.045711699633413, 12.182921240867392, 8.012788624050286, 8.007567529466371]\n",
      "\n",
      "\n"
     ]
    }
   ],
   "source": [
    "d = dict()\n",
    "l = [x for x in range(1,5)]\n",
    "d = game(set(l))\n",
    "for i in d:\n",
    "    lll = d[i]\n",
    "    print(i,\":\", lll[0])\n",
    "    print(i,\":\", lll[1])\n",
    "    print(\"\\n\")\n"
   ]
  },
  {
   "cell_type": "code",
   "execution_count": null,
   "metadata": {},
   "outputs": [],
   "source": []
  }
 ],
 "metadata": {
  "kernelspec": {
   "display_name": "Python 3",
   "language": "python",
   "name": "python3"
  },
  "language_info": {
   "codemirror_mode": {
    "name": "ipython",
    "version": 3
   },
   "file_extension": ".py",
   "mimetype": "text/x-python",
   "name": "python",
   "nbconvert_exporter": "python",
   "pygments_lexer": "ipython3",
   "version": "3.7.4"
  }
 },
 "nbformat": 4,
 "nbformat_minor": 2
}
